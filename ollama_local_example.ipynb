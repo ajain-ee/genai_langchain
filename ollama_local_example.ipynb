{
 "cells": [
  {
   "cell_type": "code",
   "execution_count": 3,
   "id": "d14cace5-c159-4f49-8664-beed340a3218",
   "metadata": {},
   "outputs": [
    {
     "name": "stdout",
     "output_type": "stream",
     "text": [
      "Collecting langchain-community\n",
      "  Downloading langchain_community-0.2.5-py3-none-any.whl.metadata (2.5 kB)\n",
      "Requirement already satisfied: langchain-core in /Users/anujjain/.pyenv/versions/3.9.10/lib/python3.9/site-packages (0.2.4)\n",
      "Requirement already satisfied: PyYAML>=5.3 in /Users/anujjain/.pyenv/versions/3.9.10/lib/python3.9/site-packages (from langchain-community) (6.0.1)\n",
      "Requirement already satisfied: SQLAlchemy<3,>=1.4 in /Users/anujjain/.pyenv/versions/3.9.10/lib/python3.9/site-packages (from langchain-community) (2.0.30)\n",
      "Requirement already satisfied: aiohttp<4.0.0,>=3.8.3 in /Users/anujjain/.pyenv/versions/3.9.10/lib/python3.9/site-packages (from langchain-community) (3.9.5)\n",
      "Collecting dataclasses-json<0.7,>=0.5.7 (from langchain-community)\n",
      "  Downloading dataclasses_json-0.6.7-py3-none-any.whl.metadata (25 kB)\n",
      "Collecting langchain<0.3.0,>=0.2.5 (from langchain-community)\n",
      "  Downloading langchain-0.2.5-py3-none-any.whl.metadata (7.0 kB)\n",
      "Collecting langchain-core\n",
      "  Downloading langchain_core-0.2.7-py3-none-any.whl.metadata (5.8 kB)\n",
      "Requirement already satisfied: langsmith<0.2.0,>=0.1.0 in /Users/anujjain/.pyenv/versions/3.9.10/lib/python3.9/site-packages (from langchain-community) (0.1.74)\n",
      "Requirement already satisfied: numpy<2,>=1 in /Users/anujjain/.pyenv/versions/3.9.10/lib/python3.9/site-packages (from langchain-community) (1.26.4)\n",
      "Requirement already satisfied: requests<3,>=2 in /Users/anujjain/.pyenv/versions/3.9.10/lib/python3.9/site-packages (from langchain-community) (2.32.3)\n",
      "Requirement already satisfied: tenacity<9.0.0,>=8.1.0 in /Users/anujjain/.pyenv/versions/3.9.10/lib/python3.9/site-packages (from langchain-community) (8.3.0)\n",
      "Requirement already satisfied: jsonpatch<2.0,>=1.33 in /Users/anujjain/.pyenv/versions/3.9.10/lib/python3.9/site-packages (from langchain-core) (1.33)\n",
      "Collecting langsmith<0.2.0,>=0.1.0 (from langchain-community)\n",
      "  Downloading langsmith-0.1.77-py3-none-any.whl.metadata (13 kB)\n",
      "Requirement already satisfied: packaging<25,>=23.2 in /Users/anujjain/.pyenv/versions/3.9.10/lib/python3.9/site-packages (from langchain-core) (23.2)\n",
      "Requirement already satisfied: pydantic<3,>=1 in /Users/anujjain/.pyenv/versions/3.9.10/lib/python3.9/site-packages (from langchain-core) (2.7.2)\n",
      "Requirement already satisfied: aiosignal>=1.1.2 in /Users/anujjain/.pyenv/versions/3.9.10/lib/python3.9/site-packages (from aiohttp<4.0.0,>=3.8.3->langchain-community) (1.3.1)\n",
      "Requirement already satisfied: attrs>=17.3.0 in /Users/anujjain/.pyenv/versions/3.9.10/lib/python3.9/site-packages (from aiohttp<4.0.0,>=3.8.3->langchain-community) (23.2.0)\n",
      "Requirement already satisfied: frozenlist>=1.1.1 in /Users/anujjain/.pyenv/versions/3.9.10/lib/python3.9/site-packages (from aiohttp<4.0.0,>=3.8.3->langchain-community) (1.4.1)\n",
      "Requirement already satisfied: multidict<7.0,>=4.5 in /Users/anujjain/.pyenv/versions/3.9.10/lib/python3.9/site-packages (from aiohttp<4.0.0,>=3.8.3->langchain-community) (6.0.5)\n",
      "Requirement already satisfied: yarl<2.0,>=1.0 in /Users/anujjain/.pyenv/versions/3.9.10/lib/python3.9/site-packages (from aiohttp<4.0.0,>=3.8.3->langchain-community) (1.9.4)\n",
      "Requirement already satisfied: async-timeout<5.0,>=4.0 in /Users/anujjain/.pyenv/versions/3.9.10/lib/python3.9/site-packages (from aiohttp<4.0.0,>=3.8.3->langchain-community) (4.0.3)\n",
      "Collecting marshmallow<4.0.0,>=3.18.0 (from dataclasses-json<0.7,>=0.5.7->langchain-community)\n",
      "  Downloading marshmallow-3.21.3-py3-none-any.whl.metadata (7.1 kB)\n",
      "Collecting typing-inspect<1,>=0.4.0 (from dataclasses-json<0.7,>=0.5.7->langchain-community)\n",
      "  Downloading typing_inspect-0.9.0-py3-none-any.whl.metadata (1.5 kB)\n",
      "Requirement already satisfied: jsonpointer>=1.9 in /Users/anujjain/.pyenv/versions/3.9.10/lib/python3.9/site-packages (from jsonpatch<2.0,>=1.33->langchain-core) (2.4)\n",
      "Requirement already satisfied: langchain-text-splitters<0.3.0,>=0.2.0 in /Users/anujjain/.pyenv/versions/3.9.10/lib/python3.9/site-packages (from langchain<0.3.0,>=0.2.5->langchain-community) (0.2.1)\n",
      "Requirement already satisfied: orjson<4.0.0,>=3.9.14 in /Users/anujjain/.pyenv/versions/3.9.10/lib/python3.9/site-packages (from langsmith<0.2.0,>=0.1.0->langchain-community) (3.10.3)\n",
      "Requirement already satisfied: annotated-types>=0.4.0 in /Users/anujjain/.pyenv/versions/3.9.10/lib/python3.9/site-packages (from pydantic<3,>=1->langchain-core) (0.7.0)\n",
      "Requirement already satisfied: pydantic-core==2.18.3 in /Users/anujjain/.pyenv/versions/3.9.10/lib/python3.9/site-packages (from pydantic<3,>=1->langchain-core) (2.18.3)\n",
      "Requirement already satisfied: typing-extensions>=4.6.1 in /Users/anujjain/.pyenv/versions/3.9.10/lib/python3.9/site-packages (from pydantic<3,>=1->langchain-core) (4.12.1)\n",
      "Requirement already satisfied: charset-normalizer<4,>=2 in /Users/anujjain/.pyenv/versions/3.9.10/lib/python3.9/site-packages (from requests<3,>=2->langchain-community) (3.3.2)\n",
      "Requirement already satisfied: idna<4,>=2.5 in /Users/anujjain/.pyenv/versions/3.9.10/lib/python3.9/site-packages (from requests<3,>=2->langchain-community) (3.7)\n",
      "Requirement already satisfied: urllib3<3,>=1.21.1 in /Users/anujjain/.pyenv/versions/3.9.10/lib/python3.9/site-packages (from requests<3,>=2->langchain-community) (2.2.1)\n",
      "Requirement already satisfied: certifi>=2017.4.17 in /Users/anujjain/.pyenv/versions/3.9.10/lib/python3.9/site-packages (from requests<3,>=2->langchain-community) (2024.6.2)\n",
      "Collecting mypy-extensions>=0.3.0 (from typing-inspect<1,>=0.4.0->dataclasses-json<0.7,>=0.5.7->langchain-community)\n",
      "  Using cached mypy_extensions-1.0.0-py3-none-any.whl.metadata (1.1 kB)\n",
      "Downloading langchain_community-0.2.5-py3-none-any.whl (2.2 MB)\n",
      "\u001b[2K   \u001b[38;2;114;156;31m━━━━━━━━━━━━━━━━━━━━━━━━━━━━━━━━━━━━━━━━\u001b[0m \u001b[32m2.2/2.2 MB\u001b[0m \u001b[31m1.8 MB/s\u001b[0m eta \u001b[36m0:00:00\u001b[0mm eta \u001b[36m0:00:01\u001b[0m0:01\u001b[0m:01\u001b[0m\n",
      "\u001b[?25hDownloading langchain_core-0.2.7-py3-none-any.whl (315 kB)\n",
      "\u001b[2K   \u001b[38;2;114;156;31m━━━━━━━━━━━━━━━━━━━━━━━━━━━━━━━━━━━━━━━━\u001b[0m \u001b[32m315.6/315.6 kB\u001b[0m \u001b[31m3.6 MB/s\u001b[0m eta \u001b[36m0:00:00\u001b[0m[31m4.3 MB/s\u001b[0m eta \u001b[36m0:00:01\u001b[0m\n",
      "\u001b[?25hDownloading dataclasses_json-0.6.7-py3-none-any.whl (28 kB)\n",
      "Downloading langchain-0.2.5-py3-none-any.whl (974 kB)\n",
      "\u001b[2K   \u001b[38;2;114;156;31m━━━━━━━━━━━━━━━━━━━━━━━━━━━━━━━━━━━━━━━━\u001b[0m \u001b[32m974.6/974.6 kB\u001b[0m \u001b[31m3.6 MB/s\u001b[0m eta \u001b[36m0:00:00\u001b[0m MB/s\u001b[0m eta \u001b[36m0:00:01\u001b[0m:01\u001b[0m\n",
      "\u001b[?25hDownloading langsmith-0.1.77-py3-none-any.whl (125 kB)\n",
      "\u001b[2K   \u001b[38;2;114;156;31m━━━━━━━━━━━━━━━━━━━━━━━━━━━━━━━━━━━━━━━━\u001b[0m \u001b[32m125.2/125.2 kB\u001b[0m \u001b[31m4.3 MB/s\u001b[0m eta \u001b[36m0:00:00\u001b[0m\n",
      "\u001b[?25hDownloading marshmallow-3.21.3-py3-none-any.whl (49 kB)\n",
      "\u001b[2K   \u001b[38;2;114;156;31m━━━━━━━━━━━━━━━━━━━━━━━━━━━━━━━━━━━━━━━━\u001b[0m \u001b[32m49.2/49.2 kB\u001b[0m \u001b[31m2.5 MB/s\u001b[0m eta \u001b[36m0:00:00\u001b[0m\n",
      "\u001b[?25hDownloading typing_inspect-0.9.0-py3-none-any.whl (8.8 kB)\n",
      "Using cached mypy_extensions-1.0.0-py3-none-any.whl (4.7 kB)\n",
      "Installing collected packages: mypy-extensions, marshmallow, typing-inspect, langsmith, dataclasses-json, langchain-core, langchain, langchain-community\n",
      "  Attempting uninstall: langsmith\n",
      "    Found existing installation: langsmith 0.1.74\n",
      "    Uninstalling langsmith-0.1.74:\n",
      "      Successfully uninstalled langsmith-0.1.74\n",
      "  Attempting uninstall: langchain-core\n",
      "    Found existing installation: langchain-core 0.2.4\n",
      "    Uninstalling langchain-core-0.2.4:\n",
      "      Successfully uninstalled langchain-core-0.2.4\n",
      "  Attempting uninstall: langchain\n",
      "    Found existing installation: langchain 0.2.2\n",
      "    Uninstalling langchain-0.2.2:\n",
      "      Successfully uninstalled langchain-0.2.2\n",
      "Successfully installed dataclasses-json-0.6.7 langchain-0.2.5 langchain-community-0.2.5 langchain-core-0.2.7 langsmith-0.1.77 marshmallow-3.21.3 mypy-extensions-1.0.0 typing-inspect-0.9.0\n",
      "Note: you may need to restart the kernel to use updated packages.\n"
     ]
    }
   ],
   "source": [
    "%pip install langchain-community langchain-core"
   ]
  },
  {
   "cell_type": "code",
   "execution_count": 4,
   "id": "916fe871-66fa-4b4c-8ee9-d43f0686b646",
   "metadata": {},
   "outputs": [],
   "source": [
    "from langchain_community.llms import Ollama\n",
    "llm = Ollama(model=\"llama2\", base_url=\"http://127.0.0.1:11434\")"
   ]
  },
  {
   "cell_type": "code",
   "execution_count": 5,
   "id": "54f2602e-9363-422e-8ca4-1aa2e52baeea",
   "metadata": {},
   "outputs": [
    {
     "data": {
      "text/plain": [
       "\"\\nLangsmith is a language model developed by Google that can be used for a variety of natural language processing tasks, including testing. Here are some ways Langsmith can help with testing:\\n\\n1. Automated testing: Langsmith can be used to automate testing processes, such as regression testing, by generating test cases based on the language model's understanding of the software's functionality. This can save time and reduce the likelihood of errors in testing.\\n2. Test data generation: Langsmith can generate test data based on a given input or scenario, which can be used to test the software's functionality. For example, Langsmith can be trained on a set of user inputs and their corresponding output, and then use this training to generate new inputs that can be used for testing.\\n3. Test case prioritization: Langsmith can help prioritize test cases based on their likelihood of revealing defects or errors in the software. This can help developers focus their testing efforts on the most critical areas of the software.\\n4. Defect prediction: Langsmith can be used to predict potential defects in the software based on patterns it has learned from analyzing large amounts of code and bug reports. This can help developers identify and fix potential issues before they become problems.\\n5. Code review: Langsmith can be used to analyze code and provide feedback on its quality, security, and maintainability. This can help developers write better code and reduce the likelihood of errors or bugs in the software.\\n6. Testing for bias: Langsmith can be used to detect biases in the software's decision-making processes, such as biases in the data it uses or the algorithms it employs. This can help ensure that the software treats all users fairly and without discrimination.\\n7. Testing for security: Langsmith can be used to identify potential security vulnerabilities in the software by analyzing its code and identifying patterns that could lead to security breaches.\\n8. Testing for accessibility: Langsmith can be used to ensure that the software is accessible to users with disabilities by testing its compliance with accessibility standards and guidelines.\\n9. Testing for compatibility: Langsmith can be used to test the software's compatibility with different hardware and software configurations, such as different operating systems, browsers, or devices.\\n10. Continuous testing: Langsmith can be used to automate continuous testing processes, such as testing for bugs, security vulnerabilities, and other issues on a regular basis. This can help ensure that the software is of high quality and remains stable over time.\""
      ]
     },
     "execution_count": 5,
     "metadata": {},
     "output_type": "execute_result"
    }
   ],
   "source": [
    "llm.invoke(\"how can langsmith help with testing?\")"
   ]
  }
 ],
 "metadata": {
  "kernelspec": {
   "display_name": "Python 3 (ipykernel)",
   "language": "python",
   "name": "python3"
  },
  "language_info": {
   "codemirror_mode": {
    "name": "ipython",
    "version": 3
   },
   "file_extension": ".py",
   "mimetype": "text/x-python",
   "name": "python",
   "nbconvert_exporter": "python",
   "pygments_lexer": "ipython3",
   "version": "3.9.10"
  }
 },
 "nbformat": 4,
 "nbformat_minor": 5
}
